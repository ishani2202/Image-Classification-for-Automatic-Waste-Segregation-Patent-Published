{
  "cells": [
    {
      "cell_type": "markdown",
      "metadata": {
        "id": "view-in-github",
        "colab_type": "text"
      },
      "source": [
        "<a href=\"https://colab.research.google.com/github/ishani2202/RiverClean/blob/main/DL_train_Capstone.ipynb\" target=\"_parent\"><img src=\"https://colab.research.google.com/assets/colab-badge.svg\" alt=\"Open In Colab\"/></a>"
      ]
    },
    {
      "cell_type": "code",
      "execution_count": null,
      "metadata": {
        "id": "TSq9UljddGcc",
        "colab": {
          "base_uri": "https://localhost:8080/"
        },
        "outputId": "9c2097af-40fa-4c7e-8ed7-3fdb753c21e5"
      },
      "outputs": [
        {
          "output_type": "stream",
          "name": "stdout",
          "text": [
            "3\n",
            "6\n",
            "3\n",
            "0\n",
            "3\n",
            "5\n",
            "4\n",
            "3\n",
            "3\n",
            "3\n"
          ]
        }
      ],
      "source": [
        "import tensorflow as tf\n",
        "from tensorflow.keras.preprocessing.image import ImageDataGenerator\n",
        "from tensorflow.keras import optimizers\n",
        "from tensorflow.keras.models import  Model, load_model\n",
        "from tensorflow.keras.layers import Dropout, Flatten, Dense\n",
        "import os\n",
        "import numpy as np\n",
        "import matplotlib.pyplot as plt\n",
        "from google.colab import drive\n",
        "drive.mount('/content/drive')  # images from google drive\n",
        "PATH=\"/content/drive/My Drive/dataset-resized/dataset-resized\"\n",
        "train_dir = os.path.join(PATH, 'train')\n",
        "validation_dir = os.path.join(PATH, 'validation')\n",
        "test_dir = os.path.join(PATH, 'test')\n",
        "batch_size = 512\n",
        "epochs = 10\n",
        "IMG_HEIGHT = 150\n",
        "IMG_WIDTH = 150\n",
        "\n",
        "train_image_generator = ImageDataGenerator(rescale=1./255)\n",
        "validation_image_generator = ImageDataGenerator(rescale=1./255)\n",
        "test_image_generator = ImageDataGenerator(rescale=1./255)\n",
        "\n",
        "train_data_gen = train_image_generator.flow_from_directory(batch_size=batch_size,\n",
        "                                                           directory=train_dir,\n",
        "                                                           shuffle=True,\n",
        "                                                           target_size=(IMG_HEIGHT, IMG_WIDTH),\n",
        "                                                           class_mode='categorical')\n",
        "\n",
        "val_data_gen = validation_image_generator.flow_from_directory(batch_size=batch_size,\n",
        "                                                              directory=validation_dir,\n",
        "                                                              target_size=(IMG_HEIGHT, IMG_WIDTH),\n",
        "                                                              class_mode='categorical')\n",
        "\n",
        "test_data_gen = test_image_generator.flow_from_directory(batch_size=batch_size,\n",
        "                                                           directory=test_dir,\n",
        "                                                           target_size=(IMG_HEIGHT, IMG_WIDTH),\n",
        "                                                           class_mode='categorical')\n",
        "\n",
        "# base_model = tf.keras.applications.InceptionV3(include_top=False,\n",
        "#     weights=\"imagenet\",\n",
        "#     input_shape=(150, 150, 3))\n",
        "# base_model.trainable = False\n",
        "# X = base_model.output\n",
        "# X = Flatten(input_shape=base_model.output_shape[1:])(X)\n",
        "# X = Dense(256, activation='relu')(X)\n",
        "# X = Dropout(0.5)(X)\n",
        "# Output = Dense(7, activation='softmax')(X)\n",
        "# inception= Model(inputs=base_model.input, outputs=Output)\n",
        "\n",
        "# inception.compile(loss=tf.keras.losses.CategoricalCrossentropy(),\n",
        "#           optimizer=optimizers.Adam(lr = 0.001),\n",
        "#           metrics=['accuracy'])\n",
        "\n",
        "# history = inception.fit_generator(\n",
        "#     train_data_gen,\n",
        "#     epochs=epochs,\n",
        "#     validation_data = val_data_gen)\n",
        "\n",
        "# inception.save('/content/drive/My Drive/dataset-resized/training_inception_hdf5_format/trainedModel.h5')\n",
        "\n",
        " base_model = tf.keras.applications.ResNet50V2(include_top=False,\n",
        "    weights=\"imagenet\",\n",
        "    input_shape=(150, 150, 3))    # pre-trained model,    loads weights pretrained on imagenet\n",
        "\n",
        "# setup for resnet training from here\n",
        "\n",
        "base_model.trainable = False\n",
        "X = base_model.output\n",
        "X = Flatten(input_shape=base_model.output_shape[1:])(X)\n",
        "X = Dense(256, activation='relu')(X)  #Rectified Linear Units\n",
        "X = Dropout(0.5)(X)\n",
        "Output = Dense(7, activation='softmax')(X)\n",
        "resnet= Model(inputs=base_model.input, outputs=Output)\n",
        "\n",
        "resnet.compile(loss=tf.keras.losses.CategoricalCrossentropy(),\n",
        "          optimizer=optimizers.Adam(lr = 0.001),\n",
        "          metrics=['accuracy'])\n",
        "\n",
        "history = resnet.fit_generator(\n",
        "    train_data_gen,\n",
        "    epochs=epochs,\n",
        "    validation_data = val_data_gen)\n",
        "\n",
        "\n",
        "resnet.save('/content/drive/My Drive/dataset-resized/training_resnet_hdf5_format/trainedModelRN.h5')\n",
        "# resnet model saved\n",
        "\n",
        "\n",
        "# testing\n",
        "import numpy\n",
        "for imagePath in  test_data_gen[0][0]:\n",
        "  # print( str(imagePath))\n",
        "  imagePath=np.expand_dims(imagePath,axis=0)\n",
        "  prediction = resnet.predict(imagePath)\n",
        "  print(numpy.argmax(prediction))\n",
        "  # 0 = bio\n",
        "  # 1 = cardboard\n",
        "  # 2 = glass\n",
        "  # 3 = metal\n",
        "  # 4 = paper\n",
        "  # 5 = plastic\n",
        "  # 6 = trash"
      ]
    },
    {
      "cell_type": "code",
      "source": [
        "drive.mount('/content/drive')  # images from google drive\n",
        "PATH=\"/content/drive/My Drive/dataset-resized/dataset-resized\"\n",
        "train_dir = os.path.join(PATH, 'train')\n",
        "validation_dir = os.path.join(PATH, 'validation')\n",
        "test_dir = os.path.join(PATH, 'test')\n",
        "batch_size = 512\n",
        "epochs = 10\n",
        "IMG_HEIGHT = 150\n",
        "IMG_WIDTH = 150\n",
        "\n",
        "train_image_generator = ImageDataGenerator(rescale=1./255)\n",
        "validation_image_generator = ImageDataGenerator(rescale=1./255)\n",
        "test_image_generator = ImageDataGenerator(rescale=1./255)\n",
        "\n",
        "train_data_gen = train_image_generator.flow_from_directory(batch_size=batch_size,\n",
        "                                                           directory=train_dir,\n",
        "                                                           shuffle=True,\n",
        "                                                           target_size=(IMG_HEIGHT, IMG_WIDTH),\n",
        "                                                           class_mode='categorical')\n",
        "\n",
        "val_data_gen = validation_image_generator.flow_from_directory(batch_size=batch_size,\n",
        "                                                              directory=validation_dir,\n",
        "                                                              target_size=(IMG_HEIGHT, IMG_WIDTH),\n",
        "                                                              class_mode='categorical')\n",
        "\n",
        "test_data_gen = test_image_generator.flow_from_directory(batch_size=batch_size,\n",
        "                                                           directory=test_dir,\n",
        "                                                           target_size=(IMG_HEIGHT, IMG_WIDTH),\n",
        "                                                           class_mode='categorical')\n",
        "\n",
        "import numpy\n",
        "for imagePath in  test_data_gen[0][0]:\n",
        "  # print( str(imagePath))\n",
        "  imagePath=np.expand_dims(imagePath,axis=0)\n",
        "  prediction = resnet.predict(imagePath)\n",
        "  print(numpy.argmax(prediction))"
      ],
      "metadata": {
        "colab": {
          "base_uri": "https://localhost:8080/"
        },
        "id": "woncBB3f3URe",
        "outputId": "7498223b-6fc1-42f3-be62-22c15a104df3"
      },
      "execution_count": null,
      "outputs": [
        {
          "output_type": "stream",
          "name": "stdout",
          "text": [
            "Drive already mounted at /content/drive; to attempt to forcibly remount, call drive.mount(\"/content/drive\", force_remount=True).\n",
            "Found 9553 images belonging to 7 classes.\n",
            "Found 688 images belonging to 7 classes.\n",
            "Found 10 images belonging to 1 classes.\n",
            "6\n",
            "6\n",
            "6\n",
            "6\n",
            "6\n",
            "6\n",
            "6\n",
            "6\n",
            "6\n",
            "2\n"
          ]
        }
      ]
    },
    {
      "cell_type": "code",
      "execution_count": null,
      "metadata": {
        "colab": {
          "base_uri": "https://localhost:8080/"
        },
        "id": "-0gAGk9KdJy9",
        "outputId": "fb201ea6-67ae-4296-a350-889e9c5d6d0a"
      },
      "outputs": [
        {
          "output_type": "stream",
          "name": "stdout",
          "text": [
            "Mounted at /content/drive\n"
          ]
        }
      ],
      "source": [
        "from google.colab import drive\n",
        "drive.mount('/content/drive')"
      ]
    },
    {
      "cell_type": "code",
      "execution_count": null,
      "metadata": {
        "id": "Dn6V6IRDdedY"
      },
      "outputs": [],
      "source": [
        "PATH=\"/content/drive/My Drive/dataset-resized/dataset-resized\""
      ]
    },
    {
      "cell_type": "code",
      "execution_count": null,
      "metadata": {
        "id": "v3xiShr9eQWA"
      },
      "outputs": [],
      "source": [
        "train_dir = os.path.join(PATH, 'train')\n",
        "validation_dir = os.path.join(PATH, 'validation')\n",
        "test_dir = os.path.join(PATH, 'test')"
      ]
    },
    {
      "cell_type": "code",
      "execution_count": null,
      "metadata": {
        "id": "N-q-Z2KoeXsQ"
      },
      "outputs": [],
      "source": [
        "train_dir = os.path.join(PATH, 'train')\n",
        "validation_dir = os.path.join(PATH, 'validation')\n",
        "test_dir = os.path.join(PATH, 'test')"
      ]
    },
    {
      "cell_type": "code",
      "execution_count": null,
      "metadata": {
        "id": "J3L8c9hbeZ1r"
      },
      "outputs": [],
      "source": [
        "batch_size = 512\n",
        "epochs = 10  #changed from 15\n",
        "IMG_HEIGHT = 150\n",
        "IMG_WIDTH = 150"
      ]
    },
    {
      "cell_type": "code",
      "execution_count": null,
      "metadata": {
        "id": "Q4KTxJQCebw9"
      },
      "outputs": [],
      "source": [
        "train_image_generator = ImageDataGenerator(rescale=1./255)\n",
        "validation_image_generator = ImageDataGenerator(rescale=1./255)\n",
        "test_image_generator = ImageDataGenerator(rescale=1./255)\n"
      ]
    },
    {
      "cell_type": "code",
      "execution_count": null,
      "metadata": {
        "colab": {
          "base_uri": "https://localhost:8080/"
        },
        "id": "7Jj94sshedf8",
        "outputId": "4c823ea9-f1e9-4d91-9bd3-1eb0cbb79f53"
      },
      "outputs": [
        {
          "output_type": "stream",
          "name": "stdout",
          "text": [
            "Found 9554 images belonging to 7 classes.\n"
          ]
        }
      ],
      "source": [
        "train_data_gen = train_image_generator.flow_from_directory(batch_size=batch_size,\n",
        "                                                           directory=train_dir,\n",
        "                                                           shuffle=True,\n",
        "                                                           target_size=(IMG_HEIGHT, IMG_WIDTH),\n",
        "                                                           class_mode='categorical')"
      ]
    },
    {
      "cell_type": "code",
      "execution_count": null,
      "metadata": {
        "colab": {
          "base_uri": "https://localhost:8080/"
        },
        "id": "Z1OQ3C7jefRq",
        "outputId": "ad2f2e83-d471-4f24-b3a8-a1ef9d344bf1"
      },
      "outputs": [
        {
          "output_type": "stream",
          "name": "stdout",
          "text": [
            "Found 688 images belonging to 7 classes.\n"
          ]
        }
      ],
      "source": [
        "val_data_gen = validation_image_generator.flow_from_directory(batch_size=batch_size,\n",
        "                                                              directory=validation_dir,\n",
        "                                                              target_size=(IMG_HEIGHT, IMG_WIDTH),\n",
        "                                                              class_mode='categorical')\n",
        "\n",
        "# checkpoint_path = \"/content/drive/My Drive/dataset-resized/training_inception/\"\n",
        "# checkpoint_dir = os.path.dirname(checkpoint_path)\n",
        "# cp_callback = tf.keras.callbacks.ModelCheckpoint(filepath=checkpoint_path,\n",
        "#                                                  save_weights_only=True,\n",
        "#                                                  verbose=1)"
      ]
    },
    {
      "cell_type": "code",
      "execution_count": null,
      "metadata": {
        "colab": {
          "base_uri": "https://localhost:8080/"
        },
        "id": "gENr2tUs_9PX",
        "outputId": "3766eca2-62fa-4af1-cc8c-b9ec4c7e2acd"
      },
      "outputs": [
        {
          "output_type": "stream",
          "name": "stdout",
          "text": [
            "Found 1 images belonging to 1 classes.\n"
          ]
        }
      ],
      "source": [
        "test_data_gen = test_image_generator.flow_from_directory(batch_size=batch_size,\n",
        "                                                           directory=test_dir,\n",
        "                                                           target_size=(IMG_HEIGHT, IMG_WIDTH),\n",
        "                                                           class_mode='categorical')"
      ]
    },
    {
      "cell_type": "code",
      "execution_count": null,
      "metadata": {
        "colab": {
          "base_uri": "https://localhost:8080/",
          "height": 200
        },
        "id": "-VWlXfJNKSZU",
        "outputId": "8fe09bfe-b896-4f5c-d791-47577ea75f02"
      },
      "outputs": [
        {
          "output_type": "error",
          "ename": "NameError",
          "evalue": "ignored",
          "traceback": [
            "\u001b[0;31m---------------------------------------------------------------------------\u001b[0m",
            "\u001b[0;31mNameError\u001b[0m                                 Traceback (most recent call last)",
            "\u001b[0;32m<ipython-input-6-e0480d739773>\u001b[0m in \u001b[0;36m<module>\u001b[0;34m()\u001b[0m\n\u001b[1;32m      1\u001b[0m \u001b[0;31m# print(tf.__version__)\u001b[0m\u001b[0;34m\u001b[0m\u001b[0;34m\u001b[0m\u001b[0;34m\u001b[0m\u001b[0m\n\u001b[1;32m      2\u001b[0m \u001b[0;31m# print(tf.keras.__version__)\u001b[0m\u001b[0;34m\u001b[0m\u001b[0;34m\u001b[0m\u001b[0;34m\u001b[0m\u001b[0m\n\u001b[0;32m----> 3\u001b[0;31m \u001b[0mprint\u001b[0m\u001b[0;34m(\u001b[0m\u001b[0mpython\u001b[0m\u001b[0;34m.\u001b[0m\u001b[0m__version__\u001b[0m\u001b[0;34m)\u001b[0m\u001b[0;34m\u001b[0m\u001b[0;34m\u001b[0m\u001b[0m\n\u001b[0m",
            "\u001b[0;31mNameError\u001b[0m: name 'python' is not defined"
          ]
        }
      ],
      "source": [
        "# print(tf.__version__)\n",
        "# print(tf.keras.__version__)\n",
        "print(python.__version__)"
      ]
    },
    {
      "cell_type": "code",
      "execution_count": null,
      "metadata": {
        "colab": {
          "background_save": true,
          "base_uri": "https://localhost:8080/"
        },
        "id": "wEkUyG-AeijE",
        "outputId": "76c89e5f-13a2-45dd-ad03-a17141ba92f5"
      },
      "outputs": [
        {
          "name": "stdout",
          "output_type": "stream",
          "text": [
            "Downloading data from https://storage.googleapis.com/tensorflow/keras-applications/inception_v3/inception_v3_weights_tf_dim_ordering_tf_kernels_notop.h5\n",
            "87916544/87910968 [==============================] - 1s 0us/step\n"
          ]
        },
        {
          "name": "stderr",
          "output_type": "stream",
          "text": [
            "/usr/local/lib/python3.7/dist-packages/tensorflow/python/keras/optimizer_v2/optimizer_v2.py:375: UserWarning: The `lr` argument is deprecated, use `learning_rate` instead.\n",
            "  \"The `lr` argument is deprecated, use `learning_rate` instead.\")\n",
            "/usr/local/lib/python3.7/dist-packages/tensorflow/python/keras/engine/training.py:1940: UserWarning: `Model.fit_generator` is deprecated and will be removed in a future version. Please use `Model.fit`, which supports generators.\n",
            "  warnings.warn('`Model.fit_generator` is deprecated and '\n"
          ]
        },
        {
          "name": "stdout",
          "output_type": "stream",
          "text": [
            "Epoch 1/10\n",
            "19/19 [==============================] - 2186s 114s/step - loss: 7.3665 - accuracy: 0.4078 - val_loss: 1.1547 - val_accuracy: 0.6003\n",
            "Epoch 2/10\n",
            "19/19 [==============================] - 466s 25s/step - loss: 1.1185 - accuracy: 0.5943 - val_loss: 0.9117 - val_accuracy: 0.6773\n",
            "Epoch 3/10\n",
            "19/19 [==============================] - 479s 25s/step - loss: 0.9609 - accuracy: 0.6480 - val_loss: 0.8424 - val_accuracy: 0.7267\n",
            "Epoch 4/10\n",
            "19/19 [==============================] - 464s 24s/step - loss: 0.8641 - accuracy: 0.6874 - val_loss: 0.7207 - val_accuracy: 0.7500\n",
            "Epoch 5/10\n",
            "19/19 [==============================] - 462s 25s/step - loss: 0.8019 - accuracy: 0.7136 - val_loss: 0.6582 - val_accuracy: 0.7674\n",
            "Epoch 6/10\n",
            "19/19 [==============================] - 469s 25s/step - loss: 0.7570 - accuracy: 0.7270 - val_loss: 0.5987 - val_accuracy: 0.7892\n",
            "Epoch 7/10\n",
            "19/19 [==============================] - 502s 27s/step - loss: 0.7033 - accuracy: 0.7462 - val_loss: 0.5768 - val_accuracy: 0.7994\n",
            "Epoch 8/10\n",
            " 6/19 [========>.....................] - ETA: 5:20 - loss: 0.6878 - accuracy: 0.7574"
          ]
        }
      ],
      "source": [
        "base_model = tf.keras.applications.InceptionV3(include_top=False,\n",
        "    weights=\"imagenet\",\n",
        "    input_shape=(150, 150, 3))\n",
        "base_model.trainable = False\n",
        "X = base_model.output\n",
        "X = Flatten(input_shape=base_model.output_shape[1:])(X)\n",
        "X = Dense(256, activation='relu')(X)\n",
        "X = Dropout(0.5)(X)\n",
        "Output = Dense(7, activation='softmax')(X)\n",
        "inception= Model(inputs=base_model.input, outputs=Output)\n",
        "\n",
        "inception.compile(loss=tf.keras.losses.CategoricalCrossentropy(),\n",
        "          optimizer=optimizers.Adam(lr = 0.001),\n",
        "          metrics=['accuracy'])\n",
        "\n",
        "history = inception.fit_generator(\n",
        "    train_data_gen,\n",
        "    epochs=epochs,\n",
        "    validation_data = val_data_gen)\n",
        "\n",
        "\n",
        "\n"
      ]
    },
    {
      "cell_type": "code",
      "execution_count": null,
      "metadata": {
        "id": "N_Rukq1g7e-g"
      },
      "outputs": [],
      "source": [
        "\n",
        "# inception.save('/content/drive/My Drive/dataset-resized/training_inception/')\n",
        "resnet = tf.keras.models.load_model('/content/drive/MyDrive/dataset-resized/training_resnet_hdf5_format/trainedModelRN.h5')\n",
        "# resnet.summary()\n",
        "InceptionNet = tf.keras.models.load_model('/content/drive/MyDrive/dataset-resized/training_inception_hdf5_format/trainedModel.h5')\n",
        "# InceptionNet.summary()"
      ]
    },
    {
      "cell_type": "code",
      "source": [
        "    from sklearn.metrics import classification_report, confusion_matrix\n",
        "    resnet.confusion_matrix()"
      ],
      "metadata": {
        "colab": {
          "base_uri": "https://localhost:8080/",
          "height": 190
        },
        "id": "QrFLfBMIoSNJ",
        "outputId": "0ca1e71f-62d5-4171-adc8-7af0d257be08"
      },
      "execution_count": null,
      "outputs": [
        {
          "output_type": "error",
          "ename": "AttributeError",
          "evalue": "ignored",
          "traceback": [
            "\u001b[0;31m---------------------------------------------------------------------------\u001b[0m",
            "\u001b[0;31mAttributeError\u001b[0m                            Traceback (most recent call last)",
            "\u001b[0;32m<ipython-input-3-859fbfaff5d2>\u001b[0m in \u001b[0;36m<module>\u001b[0;34m\u001b[0m\n\u001b[1;32m      1\u001b[0m \u001b[0;32mfrom\u001b[0m \u001b[0msklearn\u001b[0m\u001b[0;34m.\u001b[0m\u001b[0mmetrics\u001b[0m \u001b[0;32mimport\u001b[0m \u001b[0mclassification_report\u001b[0m\u001b[0;34m,\u001b[0m \u001b[0mconfusion_matrix\u001b[0m\u001b[0;34m\u001b[0m\u001b[0;34m\u001b[0m\u001b[0m\n\u001b[0;32m----> 2\u001b[0;31m \u001b[0mresnet\u001b[0m\u001b[0;34m.\u001b[0m\u001b[0mconfusion_matrix\u001b[0m\u001b[0;34m(\u001b[0m\u001b[0;34m)\u001b[0m\u001b[0;34m\u001b[0m\u001b[0;34m\u001b[0m\u001b[0m\n\u001b[0m",
            "\u001b[0;31mAttributeError\u001b[0m: 'Functional' object has no attribute 'confusion_matrix'"
          ]
        }
      ]
    },
    {
      "cell_type": "code",
      "execution_count": null,
      "metadata": {
        "id": "WBu3UFBV9JKG"
      },
      "outputs": [],
      "source": [
        "inception.save('/content/drive/My Drive/dataset-resized/training_inception_hdf5_format/trainedModel.h5')"
      ]
    },
    {
      "cell_type": "code",
      "execution_count": null,
      "metadata": {
        "id": "e6v-QvsDG4iI"
      },
      "outputs": [],
      "source": [
        "checkpoint_path = \"/content/drive/My Drive/dataset-resized/training_resnet/cp.ckpt\"\n",
        "checkpoint_dir = os.path.dirname(checkpoint_path)\n",
        "cp_callback = tf.keras.callbacks.ModelCheckpoint(filepath=checkpoint_path,\n",
        "                                                 save_weights_only=True,\n",
        "                                                 verbose=1)"
      ]
    },
    {
      "cell_type": "code",
      "execution_count": null,
      "metadata": {
        "colab": {
          "base_uri": "https://localhost:8080/"
        },
        "id": "pm2a4V3uel44",
        "outputId": "85768fad-1c9b-4a5b-c405-96f9e6c6850a"
      },
      "outputs": [
        {
          "metadata": {
            "tags": null
          },
          "name": "stdout",
          "output_type": "stream",
          "text": [
            "Downloading data from https://storage.googleapis.com/tensorflow/keras-applications/resnet/resnet50v2_weights_tf_dim_ordering_tf_kernels_notop.h5\n",
            "94674944/94668760 [==============================] - 1s 0us/step\n"
          ]
        },
        {
          "metadata": {
            "tags": null
          },
          "name": "stderr",
          "output_type": "stream",
          "text": [
            "/usr/local/lib/python3.7/dist-packages/tensorflow/python/keras/optimizer_v2/optimizer_v2.py:375: UserWarning: The `lr` argument is deprecated, use `learning_rate` instead.\n",
            "  \"The `lr` argument is deprecated, use `learning_rate` instead.\")\n",
            "/usr/local/lib/python3.7/dist-packages/tensorflow/python/keras/engine/training.py:1940: UserWarning: `Model.fit_generator` is deprecated and will be removed in a future version. Please use `Model.fit`, which supports generators.\n",
            "  warnings.warn('`Model.fit_generator` is deprecated and '\n"
          ]
        },
        {
          "output_type": "stream",
          "name": "stdout",
          "text": [
            "Epoch 1/10\n",
            "19/19 [==============================] - 1935s 100s/step - loss: 6.3487 - accuracy: 0.4894 - val_loss: 1.0390 - val_accuracy: 0.6119\n",
            "Epoch 2/10\n",
            "19/19 [==============================] - 729s 38s/step - loss: 1.0676 - accuracy: 0.6018 - val_loss: 0.7390 - val_accuracy: 0.7267\n",
            "Epoch 3/10\n",
            "19/19 [==============================] - 727s 38s/step - loss: 0.8258 - accuracy: 0.7000 - val_loss: 0.5585 - val_accuracy: 0.8110\n",
            "Epoch 4/10\n",
            "19/19 [==============================] - 726s 38s/step - loss: 0.6826 - accuracy: 0.7575 - val_loss: 0.4572 - val_accuracy: 0.8328\n",
            "Epoch 5/10\n",
            "19/19 [==============================] - 727s 38s/step - loss: 0.5968 - accuracy: 0.7795 - val_loss: 0.3928 - val_accuracy: 0.8547\n",
            "Epoch 6/10\n",
            "19/19 [==============================] - 725s 38s/step - loss: 0.5054 - accuracy: 0.8127 - val_loss: 0.3198 - val_accuracy: 0.8968\n",
            "Epoch 7/10\n",
            "19/19 [==============================] - 727s 38s/step - loss: 0.4526 - accuracy: 0.8308 - val_loss: 0.2643 - val_accuracy: 0.9215\n",
            "Epoch 8/10\n",
            "19/19 [==============================] - 729s 38s/step - loss: 0.3968 - accuracy: 0.8446 - val_loss: 0.2173 - val_accuracy: 0.9244\n",
            "Epoch 9/10\n",
            "19/19 [==============================] - 730s 38s/step - loss: 0.3598 - accuracy: 0.8627 - val_loss: 0.1957 - val_accuracy: 0.9317\n",
            "Epoch 10/10\n",
            "11/19 [================>.............] - ETA: 4:38 - loss: 0.3106 - accuracy: 0.8747"
          ]
        }
      ],
      "source": [
        " base_model = tf.keras.applications.ResNet50V2(include_top=False,\n",
        "    weights=\"imagenet\",\n",
        "    input_shape=(150, 150, 3))\n",
        "\n",
        "base_model.trainable = False\n",
        "X = base_model.output\n",
        "X = Flatten(input_shape=base_model.output_shape[1:])(X)\n",
        "X = Dense(256, activation='relu')(X)\n",
        "X = Dropout(0.5)(X)\n",
        "Output = Dense(7, activation='softmax')(X)\n",
        "resnet= Model(inputs=base_model.input, outputs=Output)\n",
        "\n",
        "resnet.compile(loss=tf.keras.losses.CategoricalCrossentropy(),\n",
        "          optimizer=optimizers.Adam(lr = 0.001),\n",
        "          metrics=['accuracy'])\n",
        "\n",
        "history = resnet.fit_generator(\n",
        "    train_data_gen,\n",
        "    epochs=epochs,\n",
        "    validation_data = val_data_gen)\n",
        "\n",
        "resnet.save('/content/drive/My Drive/dataset-resized/training_resnet/')\n",
        "\n",
        "resnet.save('/content/drive/My Drive/dataset-resized/training_resnet_hdf5_format/trainedModelRN.h5')"
      ]
    },
    {
      "cell_type": "code",
      "source": [
        "import tensorflow as tf"
      ],
      "metadata": {
        "id": "P6MfimTpnQpm"
      },
      "execution_count": null,
      "outputs": []
    },
    {
      "cell_type": "code",
      "execution_count": null,
      "metadata": {
        "colab": {
          "base_uri": "https://localhost:8080/"
        },
        "id": "Puk5CaRAdRxC",
        "outputId": "0c1dad28-d008-4c35-f0c5-1b5cd662670d"
      },
      "outputs": [
        {
          "output_type": "stream",
          "name": "stdout",
          "text": [
            "2.8.2\n",
            "2.8.0\n"
          ]
        }
      ],
      "source": [
        "print(tf.__version__)\n",
        "print(tf.keras.__version__)"
      ]
    },
    {
      "cell_type": "code",
      "execution_count": null,
      "metadata": {
        "colab": {
          "base_uri": "https://localhost:8080/",
          "height": 294
        },
        "id": "2OGHkl8Uv73D",
        "outputId": "78074d35-b3be-4809-eddc-42163be7bf10"
      },
      "outputs": [
        {
          "output_type": "execute_result",
          "data": {
            "text/plain": [
              "Text(0.5, 1.0, 'Training and Validation Accuracy')"
            ]
          },
          "metadata": {},
          "execution_count": 18
        },
        {
          "output_type": "display_data",
          "data": {
            "text/plain": [
              "<Figure size 576x576 with 1 Axes>"
            ],
            "image/png": "[encoded data removed]"
          },
          "metadata": {
            "needs_background": "light"
          }
        }
      ],
      "source": [
        "acc = history.history['accuracy']\n",
        "val_acc = history.history['val_accuracy']\n",
        "\n",
        "epochs = range(1,11)\n",
        "\n",
        "loss = history.history['loss']\n",
        "val_loss = history.history['val_loss']\n",
        "\n",
        "plt.figure(figsize=(8, 8))\n",
        "plt.subplot(2, 1, 1)\n",
        "plt.plot(epochs, acc, label='Training Accuracy')\n",
        "plt.plot(epochs, val_acc, label='Validation Accuracy')\n",
        "plt.legend(loc='lower right')\n",
        "plt.xlabel('Epochs')\n",
        "plt.ylabel('Accuracy')\n",
        "plt.ylim([min(plt.ylim()),1])\n",
        "plt.title('Training and Validation Accuracy')"
      ]
    },
    {
      "cell_type": "code",
      "execution_count": null,
      "metadata": {
        "colab": {
          "base_uri": "https://localhost:8080/",
          "height": 171
        },
        "id": "FvrpUpSTkQM7",
        "outputId": "d0eb738b-b6ae-4f8a-8674-60fda99481dc"
      },
      "outputs": [
        {
          "ename": "SyntaxError",
          "evalue": "ignored",
          "output_type": "error",
          "traceback": [
            "\u001b[0;36m  File \u001b[0;32m\"<ipython-input-18-a58c935f9cb2>\"\u001b[0;36m, line \u001b[0;32m2\u001b[0m\n\u001b[0;31m    plot_model(inception, to_file='model_plot.png', show_shapes=True, show_layer_names=False,expand_nested=False\u001b[0m\n\u001b[0m                                                                                                                ^\u001b[0m\n\u001b[0;31mSyntaxError\u001b[0m\u001b[0;31m:\u001b[0m unexpected EOF while parsing\n"
          ]
        }
      ],
      "source": [
        "from tensorflow.keras.utils import plot_model\n",
        "plot_model(inception, to_file='model_plot.png', show_shapes=True, show_layer_names=False,expand_nested=False)"
      ]
    },
    {
      "cell_type": "code",
      "execution_count": null,
      "metadata": {
        "colab": {
          "base_uri": "https://localhost:8080/"
        },
        "id": "5_WGUS1slHZY",
        "outputId": "96b17a54-1ef7-49ad-af79-d965e91bbde4"
      },
      "outputs": [
        {
          "name": "stdout",
          "output_type": "stream",
          "text": [
            "Requirement already satisfied: classify in /usr/local/lib/python3.7/dist-packages (0.5.0)\n",
            "Requirement already satisfied: jinja2>=2.7 in /usr/local/lib/python3.7/dist-packages (from classify) (2.11.3)\n",
            "Requirement already satisfied: MarkupSafe>=0.23 in /usr/local/lib/python3.7/dist-packages (from jinja2>=2.7->classify) (2.0.1)\n"
          ]
        }
      ],
      "source": [
        "!pip install classify\n",
        "import classify\n",
        "import base64\n",
        "import argparse\n",
        "import operator\n",
        "import warnings\n",
        "# import RPi.GPIO as GPIO\n",
        "import time\n",
        "# import pygame\n",
        "# import pygame.camera"
      ]
    },
    {
      "cell_type": "code",
      "execution_count": null,
      "metadata": {
        "colab": {
          "base_uri": "https://localhost:8080/",
          "height": 225
        },
        "id": "mDkS3aDisFcM",
        "outputId": "1a998fd2-d905-40d8-ee49-ad64de310e4f"
      },
      "outputs": [
        {
          "ename": "AttributeError",
          "evalue": "ignored",
          "output_type": "error",
          "traceback": [
            "\u001b[0;31m---------------------------------------------------------------------------\u001b[0m",
            "\u001b[0;31mAttributeError\u001b[0m                            Traceback (most recent call last)",
            "\u001b[0;32m<ipython-input-23-0c730fdc654f>\u001b[0m in \u001b[0;36m<module>\u001b[0;34m()\u001b[0m\n\u001b[1;32m      1\u001b[0m \u001b[0mimagePath\u001b[0m \u001b[0;34m=\u001b[0m \u001b[0;34m'/content/drive/My Drive/dataset-resized/dataset-resized/test/trash137.jpg'\u001b[0m\u001b[0;34m\u001b[0m\u001b[0;34m\u001b[0m\u001b[0m\n\u001b[0;32m----> 2\u001b[0;31m \u001b[0mresult\u001b[0m \u001b[0;34m=\u001b[0m \u001b[0mresnet\u001b[0m\u001b[0;34m.\u001b[0m\u001b[0mpredict_classes\u001b[0m\u001b[0;34m(\u001b[0m\u001b[0mimagePath\u001b[0m\u001b[0;34m)\u001b[0m\u001b[0;34m\u001b[0m\u001b[0;34m\u001b[0m\u001b[0m\n\u001b[0m\u001b[1;32m      3\u001b[0m \u001b[0mval\u001b[0m\u001b[0;34m=\u001b[0m\u001b[0mmax\u001b[0m\u001b[0;34m(\u001b[0m\u001b[0mresult\u001b[0m\u001b[0;34m.\u001b[0m\u001b[0mitems\u001b[0m\u001b[0;34m(\u001b[0m\u001b[0;34m)\u001b[0m\u001b[0;34m,\u001b[0m \u001b[0mkey\u001b[0m\u001b[0;34m=\u001b[0m\u001b[0moperator\u001b[0m\u001b[0;34m.\u001b[0m\u001b[0mitemgetter\u001b[0m\u001b[0;34m(\u001b[0m\u001b[0;36m1\u001b[0m\u001b[0;34m)\u001b[0m\u001b[0;34m)\u001b[0m\u001b[0;34m[\u001b[0m\u001b[0;36m0\u001b[0m\u001b[0;34m]\u001b[0m\u001b[0;34m\u001b[0m\u001b[0;34m\u001b[0m\u001b[0m\n\u001b[1;32m      4\u001b[0m \u001b[0mprint\u001b[0m\u001b[0;34m(\u001b[0m\u001b[0mval\u001b[0m\u001b[0;34m)\u001b[0m\u001b[0;34m\u001b[0m\u001b[0;34m\u001b[0m\u001b[0m\n",
            "\u001b[0;31mAttributeError\u001b[0m: 'Functional' object has no attribute 'predict_classes'"
          ]
        }
      ],
      "source": [
        "imagePath = '/content/drive/My Drive/dataset-resized/dataset-resized/test/trash137.jpg'\n",
        "result = classify.analyse(imagePath)\n",
        "val=max(result.items(), key=operator.itemgetter(1))[0]\n",
        "print(val)"
      ]
    },
    {
      "cell_type": "code",
      "execution_count": null,
      "metadata": {
        "id": "54fNZ0idyygX"
      },
      "outputs": [],
      "source": [
        "#from gpiozero import Servo\n",
        "import RPi.GPIO as GPIO\n",
        "import time\n",
        "import tensorflow as tf\n",
        "from tensorflow.keras.preprocessing.image import ImageDataGenerator\n",
        "from tensorflow.keras import optimizers\n",
        "from tensorflow.keras.models import Sequential, Model, load_model\n",
        "from tensorflow.keras.layers import Dropout, Flatten, Dense\n",
        "import os\n",
        "import numpy as np\n",
        "PATH=\"/home/pi\"\n",
        "test_dir = os.path.join(PATH, 'test_img_store')\n",
        "batch_size = 512\n",
        "epochs = 10  #changed from 15\n",
        "IMG_HEIGHT = 150\n",
        "IMG_WIDTH = 150\n",
        "test_image_generator = ImageDataGenerator(rescale=1./255)\n",
        "resnet = tf.keras.models.load_model('/home/pi/projects/training_resnet_hdf5_format/trainedModelRN.h5')\n",
        "import pygame\n",
        "import pygame.camera\n",
        "width = 1920\n",
        "height = 1080\n",
        "pygame.init()\n",
        "pygame.camera.init()\n",
        "camlist = pygame.camera.list_cameras()\n",
        "cam = pygame.camera.Camera(camlist[0],(width,height))\n",
        "\n",
        "while true:\n",
        "  cam.start()\n",
        "  image = cam.get_image()\n",
        "  time.sleep(2)\n",
        "  cam.stop()\n",
        "  pygame.image.save(image,'/home/pi/test_img_store/images_dir/image.jpg')\n",
        "  test_data_gen = test_image_generator.flow_from_directory(batch_size=batch_size, directory=test_dir, target_size=(IMG_HEIGHT, IMG_WIDTH), class_mode='categorical')\n",
        "  # imagePath = '/home/pi/test_img_store/images_dir/image.jpg'\n",
        "  imagePath = test_data_gen[0][0][0]\n",
        "  imagePath=np.expand_dims(imagePath,axis=0)\n",
        "  prediction = resnet.predict(imagePath)\n",
        "  # 0 = bio\n",
        "  # 1 = cardboard\n",
        "  # 2 = glass\n",
        "  # 3 = metal\n",
        "  # 4 = paper\n",
        "  # 5 = plastic\n",
        "  # 6 = trash\n",
        "  if np.argmax(prediction)== 4 or np.argmax(prediction)== 1 or np.argmax(prediction)== 0:\n",
        "    print('biodegradable')\n",
        "    GPIO.setmode(GPIO.BCM)  # set up BCM GPIO numbering\n",
        "    servo = 18\n",
        "    GPIO.setup(servo, GPIO.OUT)\n",
        "    p=GPIO.PWM(servo,50)\n",
        "    p.start(7.5)\n",
        "    time.sleep(1)\n",
        "    p.ChangeDutyCycle(10.5) #right\n",
        "    time.sleep(5)\n",
        "    p.ChangeDutyCycle(7.5)    #center\n",
        "    time.sleep(1)\n",
        "  else:\n",
        "    GPIO.setmode(GPIO.BCM)  # set up BCM GPIO numbering\n",
        "    servo = 18\n",
        "    GPIO.setup(servo, GPIO.OUT)\n",
        "    p=GPIO.PWM(servo,50)\n",
        "    p.start(7.5)    #center\n",
        "    time.sleep(1)\n",
        "    p.ChangeDutyCycle(4.5)  #left\n",
        "    time.sleep(5)\n",
        "    p.ChangeDutyCycle(7.5)    #center\n",
        "    time.sleep(1)\n",
        "    print('Non-biodegradable')"
      ]
    },
    {
      "cell_type": "code",
      "execution_count": null,
      "metadata": {
        "colab": {
          "base_uri": "https://localhost:8080/",
          "height": 36
        },
        "id": "ZZgzSHJIlf1U",
        "outputId": "0966546d-14b8-4d7e-85f8-2adfaf24409b"
      },
      "outputs": [
        {
          "data": {
            "application/vnd.google.colaboratory.intrinsic+json": {
              "type": "string"
            },
            "text/plain": [
              "'2.8.0'"
            ]
          },
          "execution_count": 88,
          "metadata": {},
          "output_type": "execute_result"
        }
      ],
      "source": [
        "tf.__version__\n"
      ]
    },
    {
      "cell_type": "code",
      "execution_count": null,
      "metadata": {
        "id": "u87L38MIlhjr"
      },
      "outputs": [],
      "source": []
    },
    {
      "cell_type": "code",
      "source": [
        "#from gpiozero import Servo\n",
        "import RPi.GPIO as GPIO\n",
        "import time\n",
        "import tensorflow as tf\n",
        "from tensorflow.keras.preprocessing.image import ImageDataGenerator\n",
        "from tensorflow.keras import optimizers\n",
        "from tensorflow.keras.models import Sequential, Model, load_model\n",
        "from tensorflow.keras.layers import Dropout, Flatten, Dense\n",
        "import os\n",
        "import numpy as np\n",
        "\n",
        "PATH=\"/home/pi\"\n",
        "test_dir = os.path.join(PATH, 'test_img_store')\n",
        "\n",
        "batch_size = 512\n",
        "epochs = 10  #changed from 15\n",
        "IMG_HEIGHT = 150\n",
        "IMG_WIDTH = 150\n",
        "\n",
        "test_image_generator = ImageDataGenerator(rescale=1./255)\n",
        "\n",
        "\n",
        "resnet = tf.keras.models.load_model('/home/pi/projects/training_resnet_hdf5_format/trainedModelRN.h5')\n",
        "\n",
        "\n",
        "\n",
        "import pygame\n",
        "import pygame.camera\n",
        "\n",
        "width = 1920\n",
        "height = 1080\n",
        "\n",
        "pygame.init()\n",
        "pygame.camera.init()\n",
        "camlist = pygame.camera.list_cameras()\n",
        "cam = pygame.camera.Camera(camlist[0],(width,height))\n",
        "\n",
        "nn = int(1)\n",
        "while true:\n",
        "  cam.start()\n",
        "  image = cam.get_image()\n",
        "  time.sleep(2)\n",
        "  cam.stop()\n",
        "  pygame.image.save(image,'/home/pi/test_img_store/images_dir/image.jpg')\n",
        "  test_data_gen = test_image_generator.flow_from_directory(batch_size=batch_size, directory=test_dir, target_size=(IMG_HEIGHT, IMG_WIDTH), class_mode='categorical')\n",
        "  # imagePath = '/home/pi/test_img_store/images_dir/image.jpg'\n",
        "  imagePath = test_data_gen[0][0][0]\n",
        "  imagePath=np.expand_dims(imagePath,axis=0)\n",
        "  prediction = resnet.predict(imagePath)\n",
        "  #print(np.argmax(prediction))\n",
        "  # 6 = trash\n",
        "  # 5 = plastic\n",
        "  # 0 = bio\n",
        "  # 1 = cardboard\n",
        "  # 4 = paper\n",
        "  # 3 = metal\n",
        "  # 2 = glass\n",
        "  if np.argmax(prediction)== 4 or np.argmax(prediction)== 1 or np.argmax(prediction)== 0:\n",
        "    print('biodegradable')\n",
        "    GPIO.setmode(GPIO.BCM)  # set up BCM GPIO numbering\n",
        "    servo = 18\n",
        "    GPIO.setup(servo, GPIO.OUT)\n",
        "    p=GPIO.PWM(servo,50)\n",
        "    p.start(7.5)\n",
        "    print(1)\n",
        "    time.sleep(1)\n",
        "    p.ChangeDutyCycle(10.5)\n",
        "    time.sleep(5)\n",
        "    p.ChangeDutyCycle(7.5)\n",
        "    time.sleep(1)\n",
        "  else:\n",
        "    GPIO.setmode(GPIO.BCM)  # set up BCM GPIO numbering\n",
        "    servo = 18\n",
        "    GPIO.setup(servo, GPIO.OUT)\n",
        "    p=GPIO.PWM(servo,50)\n",
        "    p.start(7.5)\n",
        "\n",
        "    print(0)\n",
        "    time.sleep(1)\n",
        "    p.ChangeDutyCycle(4.5)\n",
        "    time.sleep(5)\n",
        "    p.ChangeDutyCycle(7.5)\n",
        "    time.sleep(1)\n",
        "    print('Non-biodegradable')"
      ],
      "metadata": {
        "id": "bLc3R_P8P4oE"
      },
      "execution_count": null,
      "outputs": []
    }
  ],
  "metadata": {
    "colab": {
      "provenance": [],
      "include_colab_link": true
    },
    "kernelspec": {
      "display_name": "Python 3",
      "name": "python3"
    },
    "language_info": {
      "name": "python"
    }
  },
  "nbformat": 4,
  "nbformat_minor": 0
}